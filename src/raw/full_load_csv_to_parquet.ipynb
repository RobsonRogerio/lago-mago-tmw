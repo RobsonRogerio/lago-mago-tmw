{
 "cells": [
  {
   "cell_type": "code",
   "execution_count": 0,
   "metadata": {
    "application/vnd.databricks.v1+cell": {
     "cellMetadata": {
      "byteLimit": 2048000,
      "rowLimit": 10000
     },
     "inputWidgets": {},
     "nuid": "403d23a1-0c7a-412d-a3b4-3bf538f8715f",
     "showTitle": false,
     "tableResultSettingsMap": {},
     "title": ""
    }
   },
   "outputs": [],
   "source": [
    "from pyspark.sql.types import (\n",
    "    StructType, StructField,\n",
    "    StringType, LongType, DecimalType\n",
    ")"
   ]
  },
  {
   "cell_type": "code",
   "execution_count": 0,
   "metadata": {
    "application/vnd.databricks.v1+cell": {
     "cellMetadata": {
      "byteLimit": 2048000,
      "rowLimit": 10000
     },
     "inputWidgets": {},
     "nuid": "d5a1fe99-e2b2-4fbe-960a-12cd46fcbe67",
     "showTitle": false,
     "tableResultSettingsMap": {},
     "title": ""
    }
   },
   "outputs": [],
   "source": [
    "load_path = '/Volumes/raw/full_load/full_load_csv/'\n",
    "write_path = '/Volumes/raw/upsell/full_load/'"
   ]
  },
  {
   "cell_type": "code",
   "execution_count": 0,
   "metadata": {
    "application/vnd.databricks.v1+cell": {
     "cellMetadata": {
      "byteLimit": 2048000,
      "rowLimit": 10000
     },
     "inputWidgets": {},
     "nuid": "4607ce32-a969-479c-b33f-4f7f068e3bed",
     "showTitle": false,
     "tableResultSettingsMap": {},
     "title": ""
    }
   },
   "outputs": [],
   "source": [
    "SCHEMA_CLIENTES = StructType([\n",
    "    StructField(\"IdCliente\", StringType(), True),\n",
    "    StructField(\"FlEmail\", LongType(), True),\n",
    "    StructField(\"FlTwitch\", LongType(), True),\n",
    "    StructField(\"FlYouTube\", LongType(), True),\n",
    "    StructField(\"FlBlueSky\", LongType(), True),\n",
    "    StructField(\"FlInstagram\", LongType(), True),\n",
    "    StructField(\"QtdePontos\", LongType(), True),\n",
    "    StructField(\"DtCriacao\", StringType(), True),\n",
    "    StructField(\"DtAtualizacao\", StringType(), True)\n",
    "])\n",
    "\n",
    "SCHEMA_TRANSACOES = StructType([\n",
    "    StructField(\"IdTransacao\", StringType(), True),\n",
    "    StructField(\"IdCliente\", StringType(), True),\n",
    "    StructField(\"DtCriacao\", StringType(), True),\n",
    "    StructField(\"QtdePontos\", LongType(), True),\n",
    "    StructField(\"DescSistemaOrigem\", StringType(), True)\n",
    "])\n",
    "\n",
    "SCHEMA_TRANSACAO_PRODUTO = StructType([\n",
    "    StructField(\"IdTransacaoProduto\", StringType(), True),\n",
    "    StructField(\"IdTransacao\", StringType(), True),\n",
    "    StructField(\"IdProduto\", StringType(), True),\n",
    "    StructField(\"QtdeProduto\", LongType(), True),\n",
    "    StructField(\"VlProduto\", DecimalType(12, 2), True)\n",
    "])"
   ]
  },
  {
   "cell_type": "code",
   "execution_count": 0,
   "metadata": {
    "application/vnd.databricks.v1+cell": {
     "cellMetadata": {
      "byteLimit": 2048000,
      "rowLimit": 10000
     },
     "inputWidgets": {},
     "nuid": "71841265-3411-4919-a975-aa6a076bdc63",
     "showTitle": false,
     "tableResultSettingsMap": {
      "0": {
       "dataGridStateBlob": "{\"version\":1,\"tableState\":{\"columnPinning\":{\"left\":[\"#row_number#\"],\"right\":[]},\"columnSizing\":{},\"columnVisibility\":{}},\"settings\":{\"columns\":{}},\"syncTimestamp\":1756995039473}",
       "filterBlob": null,
       "queryPlanFiltersBlob": null,
       "tableResultIndex": 0
      }
     },
     "title": ""
    }
   },
   "outputs": [],
   "source": [
    "from pyspark.sql.functions import col, substring, to_timestamp\n",
    "\n",
    "# Leitura do arquivo csv clientes\n",
    "schema_csv_clientes = \"IdCliente string, FlEmail long, FlTwitch long, FlYouTube long, FlBlueSky long, FlInstagram long, QtdePontos long, DtCriacao timestamp, DtAtualizacao timestamp\"\n",
    "full_load_csv_clientes = spark.read.csv(\n",
    "                                f\"{load_path}clientes.csv\",\n",
    "                                sep=\";\",\n",
    "                                header=True,\n",
    "                                schema=SCHEMA_CLIENTES\n",
    ")\n",
    "\n",
    "# # Criar as colunas temporárias convertidas para timestamp\n",
    "# full_load_csv_clientes = full_load_csv_clientes \\\n",
    "#     .withColumn(\"DtCriacaoTS\", to_timestamp(substring(col(\"DtCriacao\"), 1, 19), \"yyyy-MM-dd HH:mm:ss\")) \\\n",
    "#     .withColumn(\"DtAtualizacaoTS\", to_timestamp(substring(col(\"DtAtualizacao\"), 1, 19), \"yyyy-MM-dd HH:mm:ss\"))\n",
    "\n",
    "# # Remover colunas originais e renomear as novas para os nomes originais\n",
    "# full_load_csv_clientes = full_load_csv_clientes \\\n",
    "#     .drop(\"DtCriacao\", \"DtAtualizacao\") \\\n",
    "#     .withColumnRenamed(\"DtCriacaoTS\", \"DtCriacao\") \\\n",
    "#     .withColumnRenamed(\"DtAtualizacaoTS\", \"DtAtualizacao\")\n",
    "\n",
    "display(full_load_csv_clientes)"
   ]
  },
  {
   "cell_type": "code",
   "execution_count": 0,
   "metadata": {
    "application/vnd.databricks.v1+cell": {
     "cellMetadata": {
      "byteLimit": 2048000,
      "rowLimit": 10000
     },
     "inputWidgets": {},
     "nuid": "09e0eaef-1b3d-4022-bd14-235c82fee7fd",
     "showTitle": false,
     "tableResultSettingsMap": {},
     "title": ""
    }
   },
   "outputs": [],
   "source": [
    "full_load_csv_clientes.printSchema()"
   ]
  },
  {
   "cell_type": "code",
   "execution_count": 0,
   "metadata": {
    "application/vnd.databricks.v1+cell": {
     "cellMetadata": {
      "byteLimit": 2048000,
      "rowLimit": 10000
     },
     "inputWidgets": {},
     "nuid": "327b8716-7b82-4dad-add3-c126f210bbb1",
     "showTitle": false,
     "tableResultSettingsMap": {},
     "title": ""
    }
   },
   "outputs": [],
   "source": [
    "# Salva em formato parquet\n",
    "full_load_csv_clientes.write.mode(\"overwrite\").parquet(\n",
    "    f\"{write_path}customers/\"\n",
    ")"
   ]
  },
  {
   "cell_type": "code",
   "execution_count": 0,
   "metadata": {
    "application/vnd.databricks.v1+cell": {
     "cellMetadata": {
      "byteLimit": 2048000,
      "rowLimit": 10000
     },
     "inputWidgets": {},
     "nuid": "a48ea014-4c31-453f-b8db-e91a465f75eb",
     "showTitle": true,
     "tableResultSettingsMap": {},
     "title": "Schema Parquet Full Load"
    }
   },
   "outputs": [],
   "source": [
    "spark.read.parquet(\"/Volumes/raw/upsell/full_load/customers/part-00000-tid-652902602118635973-2fdac786-73e3-425d-96f3-cdd4cdfb3f60-128-1.c000.snappy.parquet\").printSchema()"
   ]
  },
  {
   "cell_type": "code",
   "execution_count": 0,
   "metadata": {
    "application/vnd.databricks.v1+cell": {
     "cellMetadata": {
      "byteLimit": 2048000,
      "rowLimit": 10000
     },
     "inputWidgets": {},
     "nuid": "7fec8b55-cb77-43d1-b124-e23c425ed3a8",
     "showTitle": true,
     "tableResultSettingsMap": {},
     "title": "Schema Parquet CDC"
    }
   },
   "outputs": [],
   "source": [
    "spark.read.parquet(\"/Volumes/raw/upsell/cdc/customers/part-00000-83a31305-a855-4868-bd38-95a1e3963ecf-c000.snappy.parquet\").printSchema()"
   ]
  },
  {
   "cell_type": "code",
   "execution_count": 0,
   "metadata": {
    "application/vnd.databricks.v1+cell": {
     "cellMetadata": {
      "byteLimit": 2048000,
      "rowLimit": 10000
     },
     "inputWidgets": {},
     "nuid": "d508e869-6213-48f2-844f-d94147e75637",
     "showTitle": false,
     "tableResultSettingsMap": {},
     "title": ""
    },
    "jupyter": {
     "outputs_hidden": true,
     "source_hidden": true
    }
   },
   "outputs": [],
   "source": [
    "# Leitura do arquivo csv produto\n",
    "schema_csv_produtos = \"IdProduto int, DescProduto string, DescCateogriaProduto string\"\n",
    "full_load_csv_produtos = spark.read.csv(\n",
    "    f\"{load_path}produtos.csv\",\n",
    "    sep=\";\",\n",
    "    header=True,\n",
    "    schema=schema_csv_produtos,\n",
    ")\n",
    "display(full_load_csv_produtos)"
   ]
  },
  {
   "cell_type": "code",
   "execution_count": 0,
   "metadata": {
    "application/vnd.databricks.v1+cell": {
     "cellMetadata": {
      "byteLimit": 2048000,
      "rowLimit": 10000
     },
     "inputWidgets": {},
     "nuid": "e5664524-3322-4c7e-9da7-35f8878fbf9d",
     "showTitle": false,
     "tableResultSettingsMap": {},
     "title": ""
    },
    "jupyter": {
     "source_hidden": true
    }
   },
   "outputs": [],
   "source": [
    "# Salva em formato parquet\n",
    "full_load_csv_produtos.write.mode(\"overwrite\").parquet(\n",
    "    f\"{write_path}products/\"\n",
    ")"
   ]
  },
  {
   "cell_type": "code",
   "execution_count": 0,
   "metadata": {
    "application/vnd.databricks.v1+cell": {
     "cellMetadata": {
      "byteLimit": 2048000,
      "rowLimit": 10000
     },
     "inputWidgets": {},
     "nuid": "84c7a315-362e-462b-aae1-f1abd9427f99",
     "showTitle": false,
     "tableResultSettingsMap": {},
     "title": ""
    }
   },
   "outputs": [],
   "source": [
    "# Leitura do arquivo csv transacao_produto\n",
    "schema_csv_transacao_produto = 'IdTransacaoProduto string, IdTransacao string, IdProduto string, QtdeProduto long, VlProduto decimal(12,2)'\n",
    "full_load_csv_transacao_produto = spark.read.csv(\n",
    "    f\"{load_path}transacao_produto.csv\",\n",
    "    sep=\";\",\n",
    "    header=True,\n",
    "    schema=SCHEMA_TRANSACAO_PRODUTO,\n",
    ")\n",
    "display(full_load_csv_transacao_produto)"
   ]
  },
  {
   "cell_type": "code",
   "execution_count": 0,
   "metadata": {
    "application/vnd.databricks.v1+cell": {
     "cellMetadata": {
      "byteLimit": 2048000,
      "rowLimit": 10000
     },
     "inputWidgets": {},
     "nuid": "250a899a-e119-4376-92da-120abe6b11a1",
     "showTitle": false,
     "tableResultSettingsMap": {},
     "title": ""
    }
   },
   "outputs": [],
   "source": [
    "# Salva em formato parquet\n",
    "full_load_csv_transacao_produto.write.mode(\"overwrite\").parquet(\n",
    "    f\"{write_path}transactions_product/\"\n",
    ")"
   ]
  },
  {
   "cell_type": "code",
   "execution_count": 0,
   "metadata": {
    "application/vnd.databricks.v1+cell": {
     "cellMetadata": {
      "byteLimit": 2048000,
      "rowLimit": 10000
     },
     "inputWidgets": {},
     "nuid": "46752758-dbd1-48cb-851f-15eaed986bf9",
     "showTitle": false,
     "tableResultSettingsMap": {},
     "title": ""
    }
   },
   "outputs": [],
   "source": [
    "# Leitura do arquivo csv transacoes\n",
    "schema_csv_transacoes = 'IdTransacao string, IdCliente string, DtCriacao timestamp, QtdePontos long, DescSistemaOrigem string'\n",
    "full_load_csv_transacoes = spark.read.csv(\n",
    "    f\"{load_path}transacoes.csv\",\n",
    "    sep=\";\",\n",
    "    header=True,\n",
    "    schema=SCHEMA_TRANSACOES\n",
    ")\n",
    "\n",
    "# # Criar coluna temporária convertida para timestamp\n",
    "# full_load_csv_transacoes = full_load_csv_transacoes \\\n",
    "#     .withColumn(\"DtCriacaoTS\", to_timestamp(substring(col(\"DtCriacao\"), 1, 19), \"yyyy-MM-dd HH:mm:ss\"))\n",
    "\n",
    "# # Remover coluna original e renomear a nova para nome original\n",
    "# full_load_csv_transacoes = full_load_csv_transacoes \\\n",
    "#     .drop(\"DtCriacao\") \\\n",
    "#     .withColumnRenamed(\"DtCriacaoTS\", \"DtCriacao\")\n",
    "\n",
    "display(full_load_csv_transacoes)"
   ]
  },
  {
   "cell_type": "code",
   "execution_count": 0,
   "metadata": {
    "application/vnd.databricks.v1+cell": {
     "cellMetadata": {
      "byteLimit": 2048000,
      "rowLimit": 10000
     },
     "inputWidgets": {},
     "nuid": "09e96b9a-1307-4bf9-8bad-b79c4e5ac099",
     "showTitle": false,
     "tableResultSettingsMap": {},
     "title": ""
    }
   },
   "outputs": [],
   "source": [
    "# Salva em formato parquet\n",
    "full_load_csv_transacoes.write.mode(\"overwrite\").parquet(\n",
    "    f\"{write_path}transactions/\"\n",
    ")"
   ]
  },
  {
   "cell_type": "code",
   "execution_count": 0,
   "metadata": {
    "application/vnd.databricks.v1+cell": {
     "cellMetadata": {
      "byteLimit": 2048000,
      "rowLimit": 10000
     },
     "inputWidgets": {},
     "nuid": "cd841214-661b-474f-9f55-11b8afdbe6fb",
     "showTitle": false,
     "tableResultSettingsMap": {},
     "title": ""
    }
   },
   "outputs": [],
   "source": [
    "full_load_csv_transacoes.printSchema()"
   ]
  },
  {
   "cell_type": "code",
   "execution_count": 0,
   "metadata": {
    "application/vnd.databricks.v1+cell": {
     "cellMetadata": {
      "byteLimit": 2048000,
      "rowLimit": 10000
     },
     "inputWidgets": {},
     "nuid": "f4ed2f26-8000-4c81-bccd-b805f2e0fbed",
     "showTitle": false,
     "tableResultSettingsMap": {},
     "title": ""
    }
   },
   "outputs": [],
   "source": [
    "spark.read.parquet(\"/Volumes/raw/upsell/full_load/transactions/part-00000-tid-1616137082553178915-44be9ead-be84-4b31-b17d-52fe065bf42a-143-1.c000.snappy.parquet\").printSchema()"
   ]
  }
 ],
 "metadata": {
  "application/vnd.databricks.v1+notebook": {
   "computePreferences": null,
   "dashboards": [],
   "environmentMetadata": {
    "base_environment": "",
    "environment_version": "2"
   },
   "inputWidgetPreferences": null,
   "language": "python",
   "notebookMetadata": {
    "pythonIndentUnit": 4
   },
   "notebookName": "full_load_csv_to_parquet",
   "widgets": {}
  },
  "language_info": {
   "name": "python"
  }
 },
 "nbformat": 4,
 "nbformat_minor": 0
}
