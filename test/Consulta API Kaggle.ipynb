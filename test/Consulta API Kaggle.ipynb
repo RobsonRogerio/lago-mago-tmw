{
 "cells": [
  {
   "cell_type": "code",
   "execution_count": 0,
   "metadata": {
    "application/vnd.databricks.v1+cell": {
     "cellMetadata": {
      "byteLimit": 2048000,
      "rowLimit": 10000
     },
     "inputWidgets": {},
     "nuid": "782c7ed3-37e0-44d1-9697-f1a8bcdfceb9",
     "showTitle": false,
     "tableResultSettingsMap": {},
     "title": ""
    }
   },
   "outputs": [],
   "source": [
    "pip install kaggle"
   ]
  },
  {
   "cell_type": "code",
   "execution_count": 0,
   "metadata": {
    "application/vnd.databricks.v1+cell": {
     "cellMetadata": {
      "byteLimit": 2048000,
      "rowLimit": 10000
     },
     "inputWidgets": {},
     "nuid": "fd3ab97e-802c-4883-905f-4b889af10359",
     "showTitle": false,
     "tableResultSettingsMap": {},
     "title": ""
    }
   },
   "outputs": [],
   "source": [
    "# Autenticação e uso da API Kaggle para listar arquivos\n",
    "import os\n",
    "\n",
    "KAGGLE_USERNAME = dbutils.secrets.get(scope=\"kaggle_scope\", key=\"KAGGLE_USERNAME\")\n",
    "KAGGLE_KEY = dbutils.secrets.get(scope=\"kaggle_scope\", key=\"KAGGLE_KEY\")\n",
    "\n",
    "os.environ[\"KAGGLE_USERNAME\"] = KAGGLE_USERNAME\n",
    "os.environ[\"KAGGLE_KEY\"] = KAGGLE_KEY"
   ]
  },
  {
   "cell_type": "code",
   "execution_count": 0,
   "metadata": {
    "application/vnd.databricks.v1+cell": {
     "cellMetadata": {
      "byteLimit": 2048000,
      "rowLimit": 10000
     },
     "inputWidgets": {},
     "nuid": "289f8a9e-6a36-4d10-8e46-71dd5045f4e0",
     "showTitle": false,
     "tableResultSettingsMap": {},
     "title": ""
    }
   },
   "outputs": [],
   "source": [
    "# Liste os arquivos do dataset e obtenha as URLs diretas\n",
    "# Use a API do Kaggle para obter a lista dos arquivos e os URLs de download:\n",
    "\n",
    "from kaggle.api.kaggle_api_extended import KaggleApi\n",
    "\n",
    "api = KaggleApi()\n",
    "api.authenticate()\n",
    "\n",
    "dataset = \"teocalvo/teomewhy-loyalty-system\"\n",
    "files = api.dataset_list_files(dataset).files\n",
    "\n",
    "file_links = []\n",
    "for f in files:\n",
    "    # A URL funciona com: https://www.kaggle.com/datasets/{owner_slug}/{dataset_slug}/download?file={filename}\n",
    "    url = f\"https://www.kaggle.com/datasets/{dataset}/download?file={f.name}\"\n",
    "    file_links.append({\"filename\": f.name, \"url\": url})\n",
    "\n",
    "# Exemplo de como ficam os links\n",
    "for item in file_links:\n",
    "    print(item)\n"
   ]
  },
  {
   "cell_type": "code",
   "execution_count": 0,
   "metadata": {
    "application/vnd.databricks.v1+cell": {
     "cellMetadata": {
      "byteLimit": 2048000,
      "rowLimit": 10000
     },
     "inputWidgets": {},
     "nuid": "48eb44dc-e43c-40b2-ac4f-f95fc0435a29",
     "showTitle": false,
     "tableResultSettingsMap": {},
     "title": ""
    }
   },
   "outputs": [],
   "source": [
    "# Download dos arquivos via HTTP e salvando direto no volume S3/UC\n",
    "\n",
    "import requests\n",
    "from io import BytesIO\n",
    "from pyspark.sql import SparkSession\n",
    "\n",
    "spark = SparkSession.builder.getOrCreate()\n",
    "\n",
    "ACTUAL_PATH = \"/Volumes/raw/data/actual\"\n",
    "\n",
    "def download_and_save_csv_kaggle(file_info):\n",
    "    print(f\"Baixando {file_info['filename']} de {file_info['url']} ...\")\n",
    "    response = requests.get(file_info['url'])\n",
    "    response.raise_for_status()\n",
    "    \n",
    "    csv_bytes = BytesIO(response.content)\n",
    "    # Ajuste o separador conforme seu dataset\n",
    "    sep = \";\" if \"clientes\" in file_info['filename'] else \",\"\n",
    "    \n",
    "    df = spark.read.csv(csv_bytes, header=True, sep=sep)\n",
    "\n",
    "    output_path = f\"{ACTUAL_PATH}/{file_info['filename']}\"\n",
    "    df.write.mode(\"overwrite\").option(\"header\", \"true\").csv(output_path)\n",
    "    \n",
    "    print(f\"Arquivo salvo em {output_path}\")\n",
    "\n",
    "for item in file_links:\n",
    "    download_and_save_csv_kaggle(item)\n"
   ]
  }
 ],
 "metadata": {
  "application/vnd.databricks.v1+notebook": {
   "computePreferences": null,
   "dashboards": [],
   "environmentMetadata": {
    "base_environment": "",
    "environment_version": "2"
   },
   "inputWidgetPreferences": null,
   "language": "python",
   "notebookMetadata": {
    "pythonIndentUnit": 4
   },
   "notebookName": "Consulta API Kaggle",
   "widgets": {}
  },
  "language_info": {
   "name": "python"
  }
 },
 "nbformat": 4,
 "nbformat_minor": 0
}
