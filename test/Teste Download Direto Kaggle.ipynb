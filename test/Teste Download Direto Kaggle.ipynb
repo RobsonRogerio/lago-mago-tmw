{
 "cells": [
  {
   "cell_type": "code",
   "execution_count": 0,
   "metadata": {
    "application/vnd.databricks.v1+cell": {
     "cellMetadata": {
      "byteLimit": 2048000,
      "rowLimit": 10000
     },
     "inputWidgets": {},
     "nuid": "474635c9-9c11-4c18-91f8-f9fa1c9ca442",
     "showTitle": false,
     "tableResultSettingsMap": {},
     "title": ""
    }
   },
   "outputs": [],
   "source": [
    "import requests\n",
    "from io import BytesIO\n",
    "from pyspark.sql import SparkSession\n",
    "\n",
    "# Instancia Spark (já existe dentro do notebook Databricks)\n",
    "spark = SparkSession.builder.getOrCreate()\n",
    "\n",
    "# Define os caminhos no volume S3 montado via Unity Catalog\n",
    "ACTUAL_PATH = \"/Volumes/raw/data/actual\"\n",
    "\n",
    "# Lista de arquivos para baixar: nome do arquivo e URL direta de download\n",
    "files_to_download = [\n",
    "    {\n",
    "        \"filename\": \"clientes.csv\",\n",
    "        \"url\": \"https://www.kaggle.com/datasets/teocalvo/teomewhy-loyalty-system/download?file=clientes.csv\"\n",
    "    },\n",
    "    {\n",
    "        \"filename\": \"produtos.csv\",\n",
    "        \"url\": \"https://www.kaggle.com/datasets/teocalvo/teomewhy-loyalty-system/download?file=produtos.csv\"\n",
    "    },\n",
    "    {\n",
    "        \"filename\": \"transacoes.csv\",\n",
    "        \"url\": \"https://www.kaggle.com/datasets/teocalvo/teomewhy-loyalty-system/download?file=transacoes.csv\"\n",
    "    },\n",
    "    {\n",
    "        \"filename\": \"transacao_produto.csv\",\n",
    "        \"url\": \"https://www.kaggle.com/datasets/teocalvo/teomewhy-loyalty-system/download?file=transacao_produto.csv\"\n",
    "    }\n",
    "]\n",
    "\n",
    "def download_and_save_csv(file_info):\n",
    "    print(f\"Baixando {file_info['filename']} de {file_info['url']} ...\")\n",
    "    response = requests.get(file_info['url'])\n",
    "    response.raise_for_status()\n",
    "    \n",
    "    # Lê o conteúdo CSV em memória com Spark\n",
    "    data_bytes = BytesIO(response.content)\n",
    "    \n",
    "    # Atenção: ajuste o separador conforme tabela\n",
    "    sep = \";\"  # exemplo para seu caso\n",
    "    \n",
    "    df = spark.read.csv(data_bytes, header=True, sep=sep)\n",
    "    \n",
    "    # Salva direto no volume S3/UC no formato CSV (pode mudar para parquet ou delta)\n",
    "    output_path = f\"{ACTUAL_PATH}/{file_info['filename']}\"\n",
    "    df.write.mode(\"overwrite\").option(\"header\", \"true\").csv(output_path)\n",
    "    \n",
    "    print(f\"Arquivo salvo em {output_path}\")\n",
    "\n",
    "# Executa o download e grava para cada arquivo\n",
    "for file_info in files_to_download:\n",
    "    download_and_save_csv(file_info)\n",
    "\n",
    "print(\"Todos os arquivos baixados e salvos no volume com sucesso.\")\n"
   ]
  },
  {
   "cell_type": "code",
   "execution_count": 0,
   "metadata": {
    "application/vnd.databricks.v1+cell": {
     "cellMetadata": {
      "byteLimit": 2048000,
      "rowLimit": 10000
     },
     "inputWidgets": {},
     "nuid": "9944038a-e686-4e3b-aa91-c1d15006e8ee",
     "showTitle": false,
     "tableResultSettingsMap": {},
     "title": ""
    }
   },
   "outputs": [],
   "source": [
    "# Se o download for permitido como arquivo local\n",
    "# Tente este fluxo (se seu cluster ainda deixa, mas isso é raro em ambientes Free Edition):\n",
    "\n",
    "import requests\n",
    "import os\n",
    "\n",
    "file_url = \"https://www.kaggle.com/datasets/teocalvo/teomewhy-loyalty-system/download?file=clientes.csv\"\n",
    "local_file = \"/tmp/clientes.csv\"\n",
    "\n",
    "# Download via requests\n",
    "resp = requests.get(file_url)\n",
    "with open(local_file, \"wb\") as f:\n",
    "    f.write(resp.content)\n",
    "\n",
    "# Copie para seu volume S3 montado\n",
    "dbutils.fs.cp(f\"file:{local_file}\", \"/Volumes/raw/data/actual/clientes.csv\")\n"
   ]
  }
 ],
 "metadata": {
  "application/vnd.databricks.v1+notebook": {
   "computePreferences": null,
   "dashboards": [],
   "environmentMetadata": {
    "base_environment": "",
    "environment_version": "2"
   },
   "inputWidgetPreferences": null,
   "language": "python",
   "notebookMetadata": {
    "pythonIndentUnit": 4
   },
   "notebookName": "Teste Download Direto Kaggle",
   "widgets": {}
  },
  "language_info": {
   "name": "python"
  }
 },
 "nbformat": 4,
 "nbformat_minor": 0
}
