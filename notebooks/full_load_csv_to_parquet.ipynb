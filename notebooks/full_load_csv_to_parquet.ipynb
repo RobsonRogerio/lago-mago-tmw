{
 "cells": [
  {
   "cell_type": "code",
   "execution_count": 0,
   "metadata": {
    "application/vnd.databricks.v1+cell": {
     "cellMetadata": {
      "byteLimit": 2048000,
      "rowLimit": 10000
     },
     "inputWidgets": {},
     "nuid": "71841265-3411-4919-a975-aa6a076bdc63",
     "showTitle": false,
     "tableResultSettingsMap": {
      "0": {
       "dataGridStateBlob": "{\"version\":1,\"tableState\":{\"columnPinning\":{\"left\":[\"#row_number#\"],\"right\":[]},\"columnSizing\":{},\"columnVisibility\":{}},\"settings\":{\"columns\":{}},\"syncTimestamp\":1755001174493}",
       "filterBlob": null,
       "queryPlanFiltersBlob": null,
       "tableResultIndex": 0
      }
     },
     "title": ""
    },
    "jupyter": {
     "outputs_hidden": true
    }
   },
   "outputs": [],
   "source": [
    "# Leitura do arquivo csv clientes\n",
    "schema_csv_clientes = \"IdCliente string, FlEmail int, FlTwitch int, FlYouTube int, FlBlueSky int, FlInstagram int, QtdePontos int, DtCriacao string, DtAtualizacao string\"\n",
    "full_load_csv_clientes = spark.read.csv(\n",
    "    \"/Volumes/raw/full_load/full_load_csv/clientes.csv\",\n",
    "    sep=\";\",\n",
    "    header=True,\n",
    "    schema=schema_csv_clientes,\n",
    ")\n",
    "display(full_load_csv_clientes)"
   ]
  },
  {
   "cell_type": "code",
   "execution_count": 0,
   "metadata": {
    "application/vnd.databricks.v1+cell": {
     "cellMetadata": {
      "byteLimit": 2048000,
      "rowLimit": 10000
     },
     "inputWidgets": {},
     "nuid": "327b8716-7b82-4dad-add3-c126f210bbb1",
     "showTitle": false,
     "tableResultSettingsMap": {},
     "title": ""
    }
   },
   "outputs": [],
   "source": [
    "# Salva em formato parquet\n",
    "full_load_csv_clientes.write.mode(\"overwrite\").parquet(\n",
    "    \"/Volumes/raw/full_load/customers/\"\n",
    ")"
   ]
  },
  {
   "cell_type": "code",
   "execution_count": 0,
   "metadata": {
    "application/vnd.databricks.v1+cell": {
     "cellMetadata": {
      "byteLimit": 2048000,
      "rowLimit": 10000
     },
     "inputWidgets": {},
     "nuid": "d508e869-6213-48f2-844f-d94147e75637",
     "showTitle": false,
     "tableResultSettingsMap": {},
     "title": ""
    },
    "jupyter": {
     "outputs_hidden": true
    }
   },
   "outputs": [],
   "source": [
    "# Leitura do arquivo csv produto\n",
    "schema_csv_produtos = \"IdProduto int, DescProduto string, DescCateogriaProduto string\"\n",
    "full_load_csv_produtos = spark.read.csv(\n",
    "    \"/Volumes/raw/full_load/full_load_csv/produtos.csv\",\n",
    "    sep=\";\",\n",
    "    header=True,\n",
    "    schema=schema_csv_produtos,\n",
    ")\n",
    "display(full_load_csv_produtos)"
   ]
  },
  {
   "cell_type": "code",
   "execution_count": 0,
   "metadata": {
    "application/vnd.databricks.v1+cell": {
     "cellMetadata": {
      "byteLimit": 2048000,
      "rowLimit": 10000
     },
     "inputWidgets": {},
     "nuid": "e5664524-3322-4c7e-9da7-35f8878fbf9d",
     "showTitle": false,
     "tableResultSettingsMap": {},
     "title": ""
    }
   },
   "outputs": [],
   "source": [
    "# Salva em formato parquet\n",
    "full_load_csv_produtos.write.mode(\"overwrite\").parquet(\n",
    "    \"/Volumes/raw/full_load/products/\"\n",
    ")"
   ]
  },
  {
   "cell_type": "code",
   "execution_count": 0,
   "metadata": {
    "application/vnd.databricks.v1+cell": {
     "cellMetadata": {
      "byteLimit": 2048000,
      "rowLimit": 10000
     },
     "inputWidgets": {},
     "nuid": "84c7a315-362e-462b-aae1-f1abd9427f99",
     "showTitle": false,
     "tableResultSettingsMap": {},
     "title": ""
    },
    "jupyter": {
     "outputs_hidden": true
    }
   },
   "outputs": [],
   "source": [
    "# Leitura do arquivo csv transacao_produto\n",
    "schema_csv_transacao_produto = 'IdTransacaoProduto string, IdTransacao string, IdProduto int, QtdeProduto int, VlProduto int'\n",
    "full_load_csv_transacao_produto = spark.read.csv(\n",
    "    \"/Volumes/raw/full_load/full_load_csv/transacao_produto.csv\",\n",
    "    sep=\";\",\n",
    "    header=True,\n",
    "    schema=schema_csv_transacao_produto,\n",
    ")\n",
    "display(full_load_csv_transacao_produto)"
   ]
  },
  {
   "cell_type": "code",
   "execution_count": 0,
   "metadata": {
    "application/vnd.databricks.v1+cell": {
     "cellMetadata": {
      "byteLimit": 2048000,
      "rowLimit": 10000
     },
     "inputWidgets": {},
     "nuid": "250a899a-e119-4376-92da-120abe6b11a1",
     "showTitle": false,
     "tableResultSettingsMap": {},
     "title": ""
    }
   },
   "outputs": [],
   "source": [
    "# Salva em formato parquet\n",
    "full_load_csv_transacao_produto.write.mode(\"overwrite\").parquet(\n",
    "    \"/Volumes/raw/full_load/transactions_product/\"\n",
    ")"
   ]
  },
  {
   "cell_type": "code",
   "execution_count": 0,
   "metadata": {
    "application/vnd.databricks.v1+cell": {
     "cellMetadata": {
      "byteLimit": 2048000,
      "rowLimit": 10000
     },
     "inputWidgets": {},
     "nuid": "46752758-dbd1-48cb-851f-15eaed986bf9",
     "showTitle": false,
     "tableResultSettingsMap": {},
     "title": ""
    },
    "jupyter": {
     "outputs_hidden": true
    }
   },
   "outputs": [],
   "source": [
    "# Leitura do arquivo csv transacoes\n",
    "schema_csv_transacoes = 'IdTransacao string, IdCliente string, DtCriacao string, QtdePontos string, DescSistemaOrigem string'\n",
    "full_load_csv_transacoes = spark.read.csv(\n",
    "    \"/Volumes/raw/full_load/full_load_csv/transacoes.csv\",\n",
    "    sep=\";\",\n",
    "    header=True,\n",
    "    schema=schema_csv_transacoes\n",
    ")\n",
    "display(full_load_csv_transacoes)"
   ]
  },
  {
   "cell_type": "code",
   "execution_count": 0,
   "metadata": {
    "application/vnd.databricks.v1+cell": {
     "cellMetadata": {
      "byteLimit": 2048000,
      "rowLimit": 10000
     },
     "inputWidgets": {},
     "nuid": "09e96b9a-1307-4bf9-8bad-b79c4e5ac099",
     "showTitle": false,
     "tableResultSettingsMap": {},
     "title": ""
    }
   },
   "outputs": [],
   "source": [
    "# Salva em formato parquet\n",
    "full_load_csv_transacoes.write.mode(\"overwrite\").parquet(\n",
    "    \"/Volumes/raw/full_load/transactions/\"\n",
    ")"
   ]
  }
 ],
 "metadata": {
  "application/vnd.databricks.v1+notebook": {
   "computePreferences": null,
   "dashboards": [],
   "environmentMetadata": {
    "base_environment": "",
    "environment_version": "2"
   },
   "inputWidgetPreferences": null,
   "language": "python",
   "notebookMetadata": {
    "pythonIndentUnit": 4
   },
   "notebookName": "full_load_csv_to_parquet",
   "widgets": {}
  },
  "language_info": {
   "name": "python"
  }
 },
 "nbformat": 4,
 "nbformat_minor": 0
}
